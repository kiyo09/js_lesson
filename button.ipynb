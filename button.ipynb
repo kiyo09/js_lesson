<html>
<head>
<meta http-equiv="Content-Type" content="text/html; charset=UTF-8">
<title>
教材１
</title>

<script type="text/javascript">

function mojiKawaru(){
	var span = document.getElementById("target");
	span.innerHTML = "プレビュー最強かよ。。。";
}

</script>
</head>
<body>
【ボタンをクリックしたら文字が変わります】<br>
<input type="button" value="クリックしたら文字が変わります" onclick="mojiKawaru()"><br>
<span id="target">aiueo</span><br>
</body>
</html>




#### Markdownもいける



